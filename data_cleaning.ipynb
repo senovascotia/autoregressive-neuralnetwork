{
 "cells": [
  {
   "cell_type": "code",
   "execution_count": null,
   "id": "e28f6c3d",
   "metadata": {},
   "outputs": [
    {
     "name": "stdout",
     "output_type": "stream",
     "text": [
      "Cleaned DataFrame Info:\n",
      "<class 'pandas.core.frame.DataFrame'>\n",
      "DatetimeIndex: 13873 entries, 1987-05-20 to 2025-05-12\n",
      "Freq: D\n",
      "Data columns (total 1 columns):\n",
      " #   Column  Non-Null Count  Dtype  \n",
      "---  ------  --------------  -----  \n",
      " 0   Price   13873 non-null  float64\n",
      "dtypes: float64(1)\n",
      "memory usage: 216.8 KB\n"
     ]
    }
   ],
   "source": [
    "import pandas as pd\n",
    "\n",
    "df = pd.read_csv(r\"C:/Users/mifta/Downloads/brent-daily.csv\", \n",
    "                 parse_dates=['Date'], \n",
    "                 index_col='Date')\n",
    "\n",
    "df = df.sort_index()\n",
    "\n",
    "min_date = df.index.min()\n",
    "max_date = df.index.max()\n",
    "all_dates = pd.date_range(start=min_date, end=max_date, freq='D')\n",
    "\n",
    "df_reindexed = df.reindex(all_dates)\n",
    "df_cleaned = df_reindexed.ffill()\n",
    "\n",
    "print(\"Cleaned DataFrame Info:\")\n",
    "df_cleaned.info()\n",
    "\n",
    "df_cleaned.to_csv('brent_daily_cleaned.csv')"
   ]
  }
 ],
 "metadata": {
  "kernelspec": {
   "display_name": "Python 3",
   "language": "python",
   "name": "python3"
  },
  "language_info": {
   "codemirror_mode": {
    "name": "ipython",
    "version": 3
   },
   "file_extension": ".py",
   "mimetype": "text/x-python",
   "name": "python",
   "nbconvert_exporter": "python",
   "pygments_lexer": "ipython3",
   "version": "3.13.1"
  }
 },
 "nbformat": 4,
 "nbformat_minor": 5
}
